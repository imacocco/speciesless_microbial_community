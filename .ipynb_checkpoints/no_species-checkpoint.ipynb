{
 "cells": [
  {
   "cell_type": "code",
   "execution_count": 2,
   "metadata": {},
   "outputs": [],
   "source": [
    "from py_module.no_species import *\n",
    "from joblib import Parallel, delayed\n",
    "#%matplotlib notebook"
   ]
  },
  {
   "cell_type": "code",
   "execution_count": 3,
   "metadata": {},
   "outputs": [],
   "source": [
    "eig_cmap = sns.diverging_palette(264.5, 10.8, as_cmap=True, sep=40, s=100, center='light', l=50)\n",
    "#phen_cmap = sns.diverging_palette(264.5, 10.8, as_cmap=True, sep=40, s=100, center='light', l=50)"
   ]
  },
  {
   "cell_type": "markdown",
   "metadata": {},
   "source": [
    "# Single patch"
   ]
  },
  {
   "cell_type": "markdown",
   "metadata": {},
   "source": [
    "## Ex1"
   ]
  },
  {
   "cell_type": "code",
   "execution_count": 4,
   "metadata": {},
   "outputs": [],
   "source": [
    "np.random.seed(2)\n",
    "N_resources = 20\n",
    "N_phenotypes = 20\n",
    "resources = np.ones(N_resources)*1#np.random.rand(N_sources)#\n",
    "noise = 0.01\n",
    "\n",
    "core_phenotypes = []\n",
    "core_phenotypes.append([0,0,0,0,0,0,0,0,0,0,0,0,0,0,1,1,1,1,1,1])\n",
    "core_phenotypes.append([0,0,0,0,0,0,0,0,1,1,1,1,1,1,0,0,0,0,0,0])\n",
    "core_phenotypes.append([1,0,1,1,1,1,1,1,0,0,0,0,0,0,0,0,0,0,0,0])\n",
    "core_phenotypes.append([0,1,1,1,1,1,1,1,0,0,0,0,0,0,0,0,0,0,0,0])\n",
    "\n",
    "populations = np.ones(N_phenotypes)\n",
    "\n",
    "phenotypes = []\n",
    "for i in range(N_phenotypes):\n",
    "    comp_per_phen = int(N_phenotypes/len(core_phenotypes))\n",
    "    #print(i,comp_per_phen,int(i/comp_per_phen))\n",
    "    phenotypes.append( load_competitor( core_phenotypes[int(i/comp_per_phen)], prob_flip=0.05 ) )\n",
    "\n",
    "phenotypes = np.array(phenotypes)\n",
    "costs = compute_costs(phenotypes,noise)"
   ]
  },
  {
   "cell_type": "code",
   "execution_count": 5,
   "metadata": {},
   "outputs": [
    {
     "data": {
      "text/plain": [
       "array([6.00220302, 6.00562857, 6.00539461, 7.00495362, 7.00300753,\n",
       "       6.00511449, 7.00786229, 6.00812506, 8.00532841, 6.00806335,\n",
       "       7.00034275, 7.00154066, 6.00748185, 8.0038487 , 6.00317898,\n",
       "       9.00572009, 7.00372421, 8.0090953 , 7.00386971, 6.00836249])"
      ]
     },
     "execution_count": 5,
     "metadata": {},
     "output_type": "execute_result"
    }
   ],
   "source": [
    "costs"
   ]
  },
  {
   "cell_type": "code",
   "execution_count": 6,
   "metadata": {},
   "outputs": [
    {
     "data": {
      "text/plain": [
       "<matplotlib.axes._subplots.AxesSubplot at 0x7fdbbc858130>"
      ]
     },
     "execution_count": 6,
     "metadata": {},
     "output_type": "execute_result"
    },
    {
     "data": {
      "image/png": "[encoded data removed]",
      "text/plain": [
       "<Figure size 432x288 with 2 Axes>"
      ]
     },
     "metadata": {
      "needs_background": "light"
     },
     "output_type": "display_data"
    }
   ],
   "source": [
    "sns.heatmap(phenotypes)"
   ]
  },
  {
   "cell_type": "code",
   "execution_count": null,
   "metadata": {},
   "outputs": [],
   "source": [
    "t_end = 100000\n",
    "final_populations = evolve(t_end,resources,populations,phenotypes,costs)"
   ]
  },
  {
   "cell_type": "code",
   "execution_count": null,
   "metadata": {},
   "outputs": [],
   "source": [
    "mask = final_populations > 1e-4"
   ]
  },
  {
   "cell_type": "code",
   "execution_count": null,
   "metadata": {
    "scrolled": true
   },
   "outputs": [],
   "source": [
    "active_pheno = phenotypes[mask]\n",
    "active_pop = final_populations[mask]\n",
    "active_costs = costs[mask]\n",
    "sns.heatmap(active_pheno)"
   ]
  },
  {
   "cell_type": "code",
   "execution_count": null,
   "metadata": {},
   "outputs": [],
   "source": [
    "M_ab = compute_M_ab(active_pop,active_pheno,active_costs,resources)"
   ]
  },
  {
   "cell_type": "code",
   "execution_count": null,
   "metadata": {
    "scrolled": true
   },
   "outputs": [],
   "source": [
    "sns.heatmap(M_ab)"
   ]
  },
  {
   "cell_type": "code",
   "execution_count": null,
   "metadata": {},
   "outputs": [],
   "source": [
    "evl, evc = linalg.eig(M_ab)\n",
    "idx = evl.argsort()\n",
    "evl = evl[idx]\n",
    "evc = evc[:,idx]\n",
    "T = evc.T"
   ]
  },
  {
   "cell_type": "code",
   "execution_count": null,
   "metadata": {
    "scrolled": true
   },
   "outputs": [],
   "source": [
    "plot_spectrum(evl)"
   ]
  },
  {
   "cell_type": "code",
   "execution_count": null,
   "metadata": {
    "scrolled": true
   },
   "outputs": [],
   "source": [
    "#sns.heatmap(np.real(evc),cmap=eig_cmap);"
   ]
  },
  {
   "cell_type": "code",
   "execution_count": null,
   "metadata": {
    "scrolled": true
   },
   "outputs": [],
   "source": [
    "sns.heatmap(np.dot(np.real(T),active_pheno),cmap=eig_cmap);"
   ]
  },
  {
   "cell_type": "markdown",
   "metadata": {},
   "source": [
    "## EX2"
   ]
  },
  {
   "cell_type": "code",
   "execution_count": 10,
   "metadata": {},
   "outputs": [
    {
     "data": {
      "image/png": "[encoded data removed]",
      "text/plain": [
       "<Figure size 432x288 with 2 Axes>"
      ]
     },
     "metadata": {
      "needs_background": "light"
     },
     "output_type": "display_data"
    }
   ],
   "source": [
    "np.random.seed(12)\n",
    "N_resources = 21\n",
    "N_phenotypes = 30\n",
    "resources = np.ones(N_resources)*1#np.random.rand(N_sources)#\n",
    "noise = 0.01\n",
    "\n",
    "core_phenotypes = []\n",
    "core_phenotypes.append([1,0,0,0,0,0,0,0,0,0,0,0,1,1,1,1,1,1,1,1,1])\n",
    "core_phenotypes.append([0,1,0,0,0,0,0,0,0,0,0,0,1,1,1,1,1,1,1,1,1])\n",
    "core_phenotypes.append([0,0,1,0,0,0,0,0,0,0,0,0,1,1,1,1,1,1,1,1,1])\n",
    "core_phenotypes.append([1,0,0,1,1,1,1,1,1,1,1,1,0,0,0,0,0,0,0,0,0])\n",
    "core_phenotypes.append([0,1,0,1,1,1,1,1,1,1,1,1,0,0,0,0,0,0,0,0,0])\n",
    "core_phenotypes.append([0,0,1,1,1,1,1,1,1,1,1,1,0,0,0,0,0,0,0,0,0])\n",
    "\n",
    "populations = np.ones(N_phenotypes)\n",
    "\n",
    "phenotypes = []\n",
    "for i in range(N_phenotypes):\n",
    "    comp_per_phen = int(N_phenotypes/len(core_phenotypes))\n",
    "    #print(i,comp_per_phen,int(i/comp_per_phen))\n",
    "    phenotypes.append( load_competitor( core_phenotypes[int(i/comp_per_phen)],skip=3,n_flip=2 ) )\n",
    "\n",
    "phenotypes = np.array(phenotypes)\n",
    "sns.heatmap(phenotypes);"
   ]
  },
  {
   "cell_type": "code",
   "execution_count": 11,
   "metadata": {},
   "outputs": [],
   "source": [
    "costs = compute_costs(phenotypes,noise)"
   ]
  },
  {
   "cell_type": "code",
   "execution_count": 14,
   "metadata": {},
   "outputs": [
    {
     "name": "stdout",
     "output_type": "stream",
     "text": [
      "[ 1.          1.47534062  2.17662993  3.21127054  4.73771786  6.98974758\n",
      " 10.3122585  15.2140938  22.44597052 33.11545196]\n"
     ]
    }
   ],
   "source": [
    "#decide how to evolve the resources across the simulation\n",
    "res_i = np.logspace(0,3.5,10,base=np.e)\n",
    "print(res_i)\n",
    "res_list = []\n",
    "for i in res_i:\n",
    "    appo = np.ones(N_resources)\n",
    "    appo[0]=i\n",
    "    appo[1]=i\n",
    "    appo[2]=i\n",
    "    res_list.append(appo)\n",
    "res_list = np.array(res_list)"
   ]
  },
  {
   "cell_type": "code",
   "execution_count": null,
   "metadata": {},
   "outputs": [],
   "source": [
    "%%time\n",
    "final_pops = [ evolve(7500,res_list[i],populations,phenotypes,costs) for i in range(len(res_list)) ]"
   ]
  },
  {
   "cell_type": "code",
   "execution_count": 15,
   "metadata": {},
   "outputs": [
    {
     "name": "stdout",
     "output_type": "stream",
     "text": [
      "CPU times: user 40.8 ms, sys: 15.8 ms, total: 56.6 ms\n",
      "Wall time: 1min 35s\n"
     ]
    }
   ],
   "source": [
    "%%time\n",
    "final_pops = Parallel(n_jobs=2)(delayed(evolve)(7500,res_list[i],populations,phenotypes,costs) for i in range(len(res_list)))"
   ]
  },
  {
   "cell_type": "code",
   "execution_count": 16,
   "metadata": {},
   "outputs": [
    {
     "name": "stdout",
     "output_type": "stream",
     "text": [
      "17\n",
      "15\n",
      "12\n",
      "11\n",
      "11\n",
      "11\n",
      "11\n",
      "11\n",
      "11\n",
      "11\n"
     ]
    }
   ],
   "source": [
    "final_mask = compute_mask(final_pops,1e-5);"
   ]
  },
  {
   "cell_type": "code",
   "execution_count": 17,
   "metadata": {},
   "outputs": [],
   "source": [
    "#prepare the surviving species for the new equilibration\n",
    "active_pop = populations[final_mask]\n",
    "active_phen = phenotypes[final_mask]\n",
    "active_cost = costs[final_mask]"
   ]
  },
  {
   "cell_type": "code",
   "execution_count": 18,
   "metadata": {},
   "outputs": [
    {
     "data": {
      "text/plain": [
       "<matplotlib.axes._subplots.AxesSubplot at 0x7f60e022f7c0>"
      ]
     },
     "execution_count": 18,
     "metadata": {},
     "output_type": "execute_result"
    },
    {
     "data": {
      "image/png": "[encoded data removed]",
      "text/plain": [
       "<Figure size 432x288 with 2 Axes>"
      ]
     },
     "metadata": {
      "needs_background": "light"
     },
     "output_type": "display_data"
    }
   ],
   "source": [
    "sns.heatmap(active_phen)"
   ]
  },
  {
   "cell_type": "code",
   "execution_count": 19,
   "metadata": {},
   "outputs": [],
   "source": [
    "final_active_pops = Parallel(n_jobs=2)(delayed(evolve)(15000,res_list[i],active_pop,active_phen,active_cost) for i in range(len(res_list)))"
   ]
  },
  {
   "cell_type": "code",
   "execution_count": 23,
   "metadata": {
    "scrolled": true
   },
   "outputs": [],
   "source": [
    "evl_list = []\n",
    "evc_list = []\n",
    "for i in range(len(res_list)):\n",
    "    M_ab = compute_M_ab(final_active_pops[i],active_phen,active_cost,res_list[i])\n",
    "    evl, evc = linalg.eig(M_ab)\n",
    "    idx = evl.argsort()\n",
    "    evl_list.append(evl[idx])\n",
    "    evc = evc[:,idx]\n",
    "    evc_list.append(evc.T)\n",
    "evl_list = np.array(evl_list)\n",
    "evc_list = np.array(evc_list)"
   ]
  },
  {
   "cell_type": "code",
   "execution_count": null,
   "metadata": {},
   "outputs": [],
   "source": [
    "plot_spectrum(evl_list[2])"
   ]
  },
  {
   "cell_type": "code",
   "execution_count": 26,
   "metadata": {
    "scrolled": true
   },
   "outputs": [
    {
     "data": {
      "image/png": "[encoded data removed]",
      "text/plain": [
       "<Figure size 432x288 with 1 Axes>"
      ]
     },
     "metadata": {
      "needs_background": "light"
     },
     "output_type": "display_data"
    }
   ],
   "source": [
    "[ plt.plot(res_list[:,0],abs(evl_list[:,i]) ) for i in range(len(evl_list[0])) ];\n",
    "plt.xscale('log')\n",
    "plt.show()"
   ]
  },
  {
   "cell_type": "code",
   "execution_count": 28,
   "metadata": {},
   "outputs": [
    {
     "data": {
      "text/plain": [
       "<matplotlib.axes._subplots.AxesSubplot at 0x7f60dbfb4e50>"
      ]
     },
     "execution_count": 28,
     "metadata": {},
     "output_type": "execute_result"
    },
    {
     "data": {
      "image/png": "[encoded data removed]",
      "text/plain": [
       "<Figure size 432x288 with 2 Axes>"
      ]
     },
     "metadata": {
      "needs_background": "light"
     },
     "output_type": "display_data"
    }
   ],
   "source": [
    "sns.heatmap(np.dot(evc_list[0],active_phen),cmap=eig_cmap)"
   ]
  },
  {
   "cell_type": "code",
   "execution_count": 29,
   "metadata": {},
   "outputs": [
    {
     "data": {
      "text/plain": [
       "<matplotlib.axes._subplots.AxesSubplot at 0x7f60e01adcd0>"
      ]
     },
     "execution_count": 29,
     "metadata": {},
     "output_type": "execute_result"
    },
    {
     "data": {
      "image/png": "[encoded data removed]",
      "text/plain": [
       "<Figure size 432x288 with 2 Axes>"
      ]
     },
     "metadata": {
      "needs_background": "light"
     },
     "output_type": "display_data"
    }
   ],
   "source": [
    "sns.heatmap(np.dot(evc_list[-1],active_phen),cmap=eig_cmap)"
   ]
  },
  {
   "cell_type": "code",
   "execution_count": null,
   "metadata": {},
   "outputs": [],
   "source": []
  }
 ],
 "metadata": {
  "kernelspec": {
   "display_name": "Python 3",
   "language": "python",
   "name": "python3"
  },
  "language_info": {
   "codemirror_mode": {
    "name": "ipython",
    "version": 3
   },
   "file_extension": ".py",
   "mimetype": "text/x-python",
   "name": "python",
   "nbconvert_exporter": "python",
   "pygments_lexer": "ipython3",
   "version": "3.8.3"
  }
 },
 "nbformat": 4,
 "nbformat_minor": 4
}
